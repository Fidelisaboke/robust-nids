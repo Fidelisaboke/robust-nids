{
  "nbformat": 4,
  "nbformat_minor": 0,
  "metadata": {
    "colab": {
      "provenance": [],
      "authorship_tag": "ABX9TyMW96T3OJWF1rwJeTuhvjJb",
      "include_colab_link": true
    },
    "kernelspec": {
      "name": "python3",
      "display_name": "Python 3"
    },
    "language_info": {
      "name": "python"
    }
  },
  "cells": [
    {
      "cell_type": "markdown",
      "metadata": {
        "id": "view-in-github",
        "colab_type": "text"
      },
      "source": [
        "<a href=\"https://colab.research.google.com/github/Fidelisaboke/robust-nids/blob/feat%2Fbaseline-model/notebooks/04_baseline_model_training.ipynb\" target=\"_parent\"><img src=\"https://colab.research.google.com/assets/colab-badge.svg\" alt=\"Open In Colab\"/></a>"
      ]
    },
    {
      "cell_type": "markdown",
      "source": [
        "# Model Training"
      ],
      "metadata": {
        "id": "fIXFmcS_E35H"
      }
    },
    {
      "cell_type": "markdown",
      "source": [
        "## Mount Google Drive"
      ],
      "metadata": {
        "id": "DkPHsQHgE9XN"
      }
    },
    {
      "cell_type": "code",
      "execution_count": 1,
      "metadata": {
        "colab": {
          "base_uri": "https://localhost:8080/"
        },
        "id": "udMrR_5HEkNz",
        "outputId": "4d0a91a4-0719-414d-90e5-b4223abc7617"
      },
      "outputs": [
        {
          "output_type": "stream",
          "name": "stdout",
          "text": [
            "Drive already mounted at /content/drive; to attempt to forcibly remount, call drive.mount(\"/content/drive\", force_remount=True).\n"
          ]
        }
      ],
      "source": [
        "from google.colab import drive\n",
        "drive.mount('/content/drive')"
      ]
    },
    {
      "cell_type": "markdown",
      "source": [
        "## Required Libraries"
      ],
      "metadata": {
        "id": "SnqyZ_TbLiPg"
      }
    },
    {
      "cell_type": "code",
      "source": [
        "# Data manipulation\n",
        "import numpy as np\n",
        "import pandas as pd\n",
        "\n",
        "# Standard library for mathematical operations\n",
        "import math\n",
        "\n",
        "# Progress\n",
        "from tqdm import tqdm\n",
        "\n",
        "# Plotting\n",
        "import matplotlib.pyplot as plt\n",
        "import seaborn as sns\n",
        "\n",
        "# Train-test split\n",
        "from sklearn.model_selection import train_test_split\n",
        "\n",
        "# Scaling\n",
        "from sklearn.preprocessing import MinMaxScaler\n",
        "\n",
        "# Imbalance handling\n",
        "from imblearn.over_sampling import SMOTE\n",
        "from sklearn.utils.class_weight import compute_class_weight\n",
        "\n",
        "# ML Models (Classifiers)\n",
        "from sklearn.linear_model import LogisticRegression\n",
        "from sklearn.ensemble import RandomForestClassifier\n",
        "from xgboost import XGBClassifier\n",
        "from sklearn.svm import SVC\n",
        "from sklearn.neural_network import MLPClassifier\n",
        "\n",
        "# Metrics\n",
        "from sklearn.metrics import (\n",
        "    accuracy_score,\n",
        "    precision_score,\n",
        "    recall_score,\n",
        "    f1_score,\n",
        "    roc_auc_score,\n",
        "    confusion_matrix,\n",
        "    classification_report\n",
        ")\n",
        "\n",
        "# Unsupervised learning\n",
        "import tensorflow as tf\n",
        "from tensorflow.keras import layers, models\n",
        "\n",
        "# For saving models\n",
        "import joblib"
      ],
      "metadata": {
        "id": "88YIetTcLklw"
      },
      "execution_count": 2,
      "outputs": []
    },
    {
      "cell_type": "markdown",
      "source": [
        "## Constants and Configuration"
      ],
      "metadata": {
        "id": "DJOlHvsBNpk-"
      }
    },
    {
      "cell_type": "code",
      "source": [
        "# Clean CSV Path\n",
        "CLEAN_CSV_PATH = \"/content/drive/MyDrive/Datasets/TII-SSRC-23/cleaned_data.csv\"\n",
        "\n",
        "# Scaler\n",
        "SCALER_PATH = \"/content/drive/MyDrive/Datasets/TII-SSRC-23/Artifacts/scaler.pkl\""
      ],
      "metadata": {
        "id": "QgZ6CoDJNsof"
      },
      "execution_count": 3,
      "outputs": []
    },
    {
      "cell_type": "markdown",
      "source": [
        "## Load the Dataset"
      ],
      "metadata": {
        "id": "g7DHuBzNOIKF"
      }
    },
    {
      "cell_type": "code",
      "source": [
        "df = pd.read_csv(CLEAN_CSV_PATH)\n",
        "df.head()"
      ],
      "metadata": {
        "colab": {
          "base_uri": "https://localhost:8080/",
          "height": 258
        },
        "id": "SP_rJRLwOJ2p",
        "outputId": "26178e4f-2f22-4aba-d012-e7d79374e386"
      },
      "execution_count": 4,
      "outputs": [
        {
          "output_type": "execute_result",
          "data": {
            "text/plain": [
              "   Flow Duration  Flow Bytes/s  Flow Packets/s  Fwd Packet Length Max  \\\n",
              "0     52601173.0   5522.709541       66.424374                 1318.0   \n",
              "1    119106942.0     24.599742        0.780811                   41.0   \n",
              "2         5589.0  22186.437645      357.845768                  124.0   \n",
              "3    118166562.0   5969.142100       68.784264                 1348.0   \n",
              "4    119988385.0   4459.064934       56.838835                    9.0   \n",
              "\n",
              "   Fwd Packet Length Min  Packet Length Std  Bwd Init Win Bytes  \\\n",
              "0                    0.0          93.643930              2068.0   \n",
              "1                    0.0          27.063135               502.0   \n",
              "2                  124.0          71.591433               502.0   \n",
              "3                    0.0         133.693257              4708.0   \n",
              "4                    9.0          17.228724                 0.0   \n",
              "\n",
              "   FWD Init Win Bytes  Fwd Seg Size Min     Idle Std  Idle Mean  \\\n",
              "0             65280.0              32.0     0.000000        0.0   \n",
              "1               502.0              32.0  1737.400069  5001511.0   \n",
              "2               501.0              32.0     0.000000        0.0   \n",
              "3             65280.0              32.0     0.000000        0.0   \n",
              "4                 0.0               8.0     0.000000        0.0   \n",
              "\n",
              "   SYN Flag Count  ACK Flag Count  Total Fwd Packet  Total Bwd packets  Label  \\\n",
              "0             2.0          3493.0            1701.0             1793.0      0   \n",
              "1             0.0            93.0              36.0               57.0      0   \n",
              "2             0.0             2.0               1.0                1.0      0   \n",
              "3             2.0          8127.0            3932.0             4196.0      0   \n",
              "4             0.0             0.0              25.0             6795.0      0   \n",
              "\n",
              "  Traffic Subtype  \n",
              "0           Audio  \n",
              "1           Audio  \n",
              "2           Audio  \n",
              "3           Audio  \n",
              "4           Audio  "
            ],
            "text/html": [
              "\n",
              "  <div id=\"df-d2a59351-2514-406f-a8f0-263b6573c96a\" class=\"colab-df-container\">\n",
              "    <div>\n",
              "<style scoped>\n",
              "    .dataframe tbody tr th:only-of-type {\n",
              "        vertical-align: middle;\n",
              "    }\n",
              "\n",
              "    .dataframe tbody tr th {\n",
              "        vertical-align: top;\n",
              "    }\n",
              "\n",
              "    .dataframe thead th {\n",
              "        text-align: right;\n",
              "    }\n",
              "</style>\n",
              "<table border=\"1\" class=\"dataframe\">\n",
              "  <thead>\n",
              "    <tr style=\"text-align: right;\">\n",
              "      <th></th>\n",
              "      <th>Flow Duration</th>\n",
              "      <th>Flow Bytes/s</th>\n",
              "      <th>Flow Packets/s</th>\n",
              "      <th>Fwd Packet Length Max</th>\n",
              "      <th>Fwd Packet Length Min</th>\n",
              "      <th>Packet Length Std</th>\n",
              "      <th>Bwd Init Win Bytes</th>\n",
              "      <th>FWD Init Win Bytes</th>\n",
              "      <th>Fwd Seg Size Min</th>\n",
              "      <th>Idle Std</th>\n",
              "      <th>Idle Mean</th>\n",
              "      <th>SYN Flag Count</th>\n",
              "      <th>ACK Flag Count</th>\n",
              "      <th>Total Fwd Packet</th>\n",
              "      <th>Total Bwd packets</th>\n",
              "      <th>Label</th>\n",
              "      <th>Traffic Subtype</th>\n",
              "    </tr>\n",
              "  </thead>\n",
              "  <tbody>\n",
              "    <tr>\n",
              "      <th>0</th>\n",
              "      <td>52601173.0</td>\n",
              "      <td>5522.709541</td>\n",
              "      <td>66.424374</td>\n",
              "      <td>1318.0</td>\n",
              "      <td>0.0</td>\n",
              "      <td>93.643930</td>\n",
              "      <td>2068.0</td>\n",
              "      <td>65280.0</td>\n",
              "      <td>32.0</td>\n",
              "      <td>0.000000</td>\n",
              "      <td>0.0</td>\n",
              "      <td>2.0</td>\n",
              "      <td>3493.0</td>\n",
              "      <td>1701.0</td>\n",
              "      <td>1793.0</td>\n",
              "      <td>0</td>\n",
              "      <td>Audio</td>\n",
              "    </tr>\n",
              "    <tr>\n",
              "      <th>1</th>\n",
              "      <td>119106942.0</td>\n",
              "      <td>24.599742</td>\n",
              "      <td>0.780811</td>\n",
              "      <td>41.0</td>\n",
              "      <td>0.0</td>\n",
              "      <td>27.063135</td>\n",
              "      <td>502.0</td>\n",
              "      <td>502.0</td>\n",
              "      <td>32.0</td>\n",
              "      <td>1737.400069</td>\n",
              "      <td>5001511.0</td>\n",
              "      <td>0.0</td>\n",
              "      <td>93.0</td>\n",
              "      <td>36.0</td>\n",
              "      <td>57.0</td>\n",
              "      <td>0</td>\n",
              "      <td>Audio</td>\n",
              "    </tr>\n",
              "    <tr>\n",
              "      <th>2</th>\n",
              "      <td>5589.0</td>\n",
              "      <td>22186.437645</td>\n",
              "      <td>357.845768</td>\n",
              "      <td>124.0</td>\n",
              "      <td>124.0</td>\n",
              "      <td>71.591433</td>\n",
              "      <td>502.0</td>\n",
              "      <td>501.0</td>\n",
              "      <td>32.0</td>\n",
              "      <td>0.000000</td>\n",
              "      <td>0.0</td>\n",
              "      <td>0.0</td>\n",
              "      <td>2.0</td>\n",
              "      <td>1.0</td>\n",
              "      <td>1.0</td>\n",
              "      <td>0</td>\n",
              "      <td>Audio</td>\n",
              "    </tr>\n",
              "    <tr>\n",
              "      <th>3</th>\n",
              "      <td>118166562.0</td>\n",
              "      <td>5969.142100</td>\n",
              "      <td>68.784264</td>\n",
              "      <td>1348.0</td>\n",
              "      <td>0.0</td>\n",
              "      <td>133.693257</td>\n",
              "      <td>4708.0</td>\n",
              "      <td>65280.0</td>\n",
              "      <td>32.0</td>\n",
              "      <td>0.000000</td>\n",
              "      <td>0.0</td>\n",
              "      <td>2.0</td>\n",
              "      <td>8127.0</td>\n",
              "      <td>3932.0</td>\n",
              "      <td>4196.0</td>\n",
              "      <td>0</td>\n",
              "      <td>Audio</td>\n",
              "    </tr>\n",
              "    <tr>\n",
              "      <th>4</th>\n",
              "      <td>119988385.0</td>\n",
              "      <td>4459.064934</td>\n",
              "      <td>56.838835</td>\n",
              "      <td>9.0</td>\n",
              "      <td>9.0</td>\n",
              "      <td>17.228724</td>\n",
              "      <td>0.0</td>\n",
              "      <td>0.0</td>\n",
              "      <td>8.0</td>\n",
              "      <td>0.000000</td>\n",
              "      <td>0.0</td>\n",
              "      <td>0.0</td>\n",
              "      <td>0.0</td>\n",
              "      <td>25.0</td>\n",
              "      <td>6795.0</td>\n",
              "      <td>0</td>\n",
              "      <td>Audio</td>\n",
              "    </tr>\n",
              "  </tbody>\n",
              "</table>\n",
              "</div>\n",
              "    <div class=\"colab-df-buttons\">\n",
              "\n",
              "  <div class=\"colab-df-container\">\n",
              "    <button class=\"colab-df-convert\" onclick=\"convertToInteractive('df-d2a59351-2514-406f-a8f0-263b6573c96a')\"\n",
              "            title=\"Convert this dataframe to an interactive table.\"\n",
              "            style=\"display:none;\">\n",
              "\n",
              "  <svg xmlns=\"http://www.w3.org/2000/svg\" height=\"24px\" viewBox=\"0 -960 960 960\">\n",
              "    <path d=\"M120-120v-720h720v720H120Zm60-500h600v-160H180v160Zm220 220h160v-160H400v160Zm0 220h160v-160H400v160ZM180-400h160v-160H180v160Zm440 0h160v-160H620v160ZM180-180h160v-160H180v160Zm440 0h160v-160H620v160Z\"/>\n",
              "  </svg>\n",
              "    </button>\n",
              "\n",
              "  <style>\n",
              "    .colab-df-container {\n",
              "      display:flex;\n",
              "      gap: 12px;\n",
              "    }\n",
              "\n",
              "    .colab-df-convert {\n",
              "      background-color: #E8F0FE;\n",
              "      border: none;\n",
              "      border-radius: 50%;\n",
              "      cursor: pointer;\n",
              "      display: none;\n",
              "      fill: #1967D2;\n",
              "      height: 32px;\n",
              "      padding: 0 0 0 0;\n",
              "      width: 32px;\n",
              "    }\n",
              "\n",
              "    .colab-df-convert:hover {\n",
              "      background-color: #E2EBFA;\n",
              "      box-shadow: 0px 1px 2px rgba(60, 64, 67, 0.3), 0px 1px 3px 1px rgba(60, 64, 67, 0.15);\n",
              "      fill: #174EA6;\n",
              "    }\n",
              "\n",
              "    .colab-df-buttons div {\n",
              "      margin-bottom: 4px;\n",
              "    }\n",
              "\n",
              "    [theme=dark] .colab-df-convert {\n",
              "      background-color: #3B4455;\n",
              "      fill: #D2E3FC;\n",
              "    }\n",
              "\n",
              "    [theme=dark] .colab-df-convert:hover {\n",
              "      background-color: #434B5C;\n",
              "      box-shadow: 0px 1px 3px 1px rgba(0, 0, 0, 0.15);\n",
              "      filter: drop-shadow(0px 1px 2px rgba(0, 0, 0, 0.3));\n",
              "      fill: #FFFFFF;\n",
              "    }\n",
              "  </style>\n",
              "\n",
              "    <script>\n",
              "      const buttonEl =\n",
              "        document.querySelector('#df-d2a59351-2514-406f-a8f0-263b6573c96a button.colab-df-convert');\n",
              "      buttonEl.style.display =\n",
              "        google.colab.kernel.accessAllowed ? 'block' : 'none';\n",
              "\n",
              "      async function convertToInteractive(key) {\n",
              "        const element = document.querySelector('#df-d2a59351-2514-406f-a8f0-263b6573c96a');\n",
              "        const dataTable =\n",
              "          await google.colab.kernel.invokeFunction('convertToInteractive',\n",
              "                                                    [key], {});\n",
              "        if (!dataTable) return;\n",
              "\n",
              "        const docLinkHtml = 'Like what you see? Visit the ' +\n",
              "          '<a target=\"_blank\" href=https://colab.research.google.com/notebooks/data_table.ipynb>data table notebook</a>'\n",
              "          + ' to learn more about interactive tables.';\n",
              "        element.innerHTML = '';\n",
              "        dataTable['output_type'] = 'display_data';\n",
              "        await google.colab.output.renderOutput(dataTable, element);\n",
              "        const docLink = document.createElement('div');\n",
              "        docLink.innerHTML = docLinkHtml;\n",
              "        element.appendChild(docLink);\n",
              "      }\n",
              "    </script>\n",
              "  </div>\n",
              "\n",
              "\n",
              "    <div id=\"df-27bf4c28-8fb6-4332-b632-af87301a575c\">\n",
              "      <button class=\"colab-df-quickchart\" onclick=\"quickchart('df-27bf4c28-8fb6-4332-b632-af87301a575c')\"\n",
              "                title=\"Suggest charts\"\n",
              "                style=\"display:none;\">\n",
              "\n",
              "<svg xmlns=\"http://www.w3.org/2000/svg\" height=\"24px\"viewBox=\"0 0 24 24\"\n",
              "     width=\"24px\">\n",
              "    <g>\n",
              "        <path d=\"M19 3H5c-1.1 0-2 .9-2 2v14c0 1.1.9 2 2 2h14c1.1 0 2-.9 2-2V5c0-1.1-.9-2-2-2zM9 17H7v-7h2v7zm4 0h-2V7h2v10zm4 0h-2v-4h2v4z\"/>\n",
              "    </g>\n",
              "</svg>\n",
              "      </button>\n",
              "\n",
              "<style>\n",
              "  .colab-df-quickchart {\n",
              "      --bg-color: #E8F0FE;\n",
              "      --fill-color: #1967D2;\n",
              "      --hover-bg-color: #E2EBFA;\n",
              "      --hover-fill-color: #174EA6;\n",
              "      --disabled-fill-color: #AAA;\n",
              "      --disabled-bg-color: #DDD;\n",
              "  }\n",
              "\n",
              "  [theme=dark] .colab-df-quickchart {\n",
              "      --bg-color: #3B4455;\n",
              "      --fill-color: #D2E3FC;\n",
              "      --hover-bg-color: #434B5C;\n",
              "      --hover-fill-color: #FFFFFF;\n",
              "      --disabled-bg-color: #3B4455;\n",
              "      --disabled-fill-color: #666;\n",
              "  }\n",
              "\n",
              "  .colab-df-quickchart {\n",
              "    background-color: var(--bg-color);\n",
              "    border: none;\n",
              "    border-radius: 50%;\n",
              "    cursor: pointer;\n",
              "    display: none;\n",
              "    fill: var(--fill-color);\n",
              "    height: 32px;\n",
              "    padding: 0;\n",
              "    width: 32px;\n",
              "  }\n",
              "\n",
              "  .colab-df-quickchart:hover {\n",
              "    background-color: var(--hover-bg-color);\n",
              "    box-shadow: 0 1px 2px rgba(60, 64, 67, 0.3), 0 1px 3px 1px rgba(60, 64, 67, 0.15);\n",
              "    fill: var(--button-hover-fill-color);\n",
              "  }\n",
              "\n",
              "  .colab-df-quickchart-complete:disabled,\n",
              "  .colab-df-quickchart-complete:disabled:hover {\n",
              "    background-color: var(--disabled-bg-color);\n",
              "    fill: var(--disabled-fill-color);\n",
              "    box-shadow: none;\n",
              "  }\n",
              "\n",
              "  .colab-df-spinner {\n",
              "    border: 2px solid var(--fill-color);\n",
              "    border-color: transparent;\n",
              "    border-bottom-color: var(--fill-color);\n",
              "    animation:\n",
              "      spin 1s steps(1) infinite;\n",
              "  }\n",
              "\n",
              "  @keyframes spin {\n",
              "    0% {\n",
              "      border-color: transparent;\n",
              "      border-bottom-color: var(--fill-color);\n",
              "      border-left-color: var(--fill-color);\n",
              "    }\n",
              "    20% {\n",
              "      border-color: transparent;\n",
              "      border-left-color: var(--fill-color);\n",
              "      border-top-color: var(--fill-color);\n",
              "    }\n",
              "    30% {\n",
              "      border-color: transparent;\n",
              "      border-left-color: var(--fill-color);\n",
              "      border-top-color: var(--fill-color);\n",
              "      border-right-color: var(--fill-color);\n",
              "    }\n",
              "    40% {\n",
              "      border-color: transparent;\n",
              "      border-right-color: var(--fill-color);\n",
              "      border-top-color: var(--fill-color);\n",
              "    }\n",
              "    60% {\n",
              "      border-color: transparent;\n",
              "      border-right-color: var(--fill-color);\n",
              "    }\n",
              "    80% {\n",
              "      border-color: transparent;\n",
              "      border-right-color: var(--fill-color);\n",
              "      border-bottom-color: var(--fill-color);\n",
              "    }\n",
              "    90% {\n",
              "      border-color: transparent;\n",
              "      border-bottom-color: var(--fill-color);\n",
              "    }\n",
              "  }\n",
              "</style>\n",
              "\n",
              "      <script>\n",
              "        async function quickchart(key) {\n",
              "          const quickchartButtonEl =\n",
              "            document.querySelector('#' + key + ' button');\n",
              "          quickchartButtonEl.disabled = true;  // To prevent multiple clicks.\n",
              "          quickchartButtonEl.classList.add('colab-df-spinner');\n",
              "          try {\n",
              "            const charts = await google.colab.kernel.invokeFunction(\n",
              "                'suggestCharts', [key], {});\n",
              "          } catch (error) {\n",
              "            console.error('Error during call to suggestCharts:', error);\n",
              "          }\n",
              "          quickchartButtonEl.classList.remove('colab-df-spinner');\n",
              "          quickchartButtonEl.classList.add('colab-df-quickchart-complete');\n",
              "        }\n",
              "        (() => {\n",
              "          let quickchartButtonEl =\n",
              "            document.querySelector('#df-27bf4c28-8fb6-4332-b632-af87301a575c button');\n",
              "          quickchartButtonEl.style.display =\n",
              "            google.colab.kernel.accessAllowed ? 'block' : 'none';\n",
              "        })();\n",
              "      </script>\n",
              "    </div>\n",
              "\n",
              "    </div>\n",
              "  </div>\n"
            ],
            "application/vnd.google.colaboratory.intrinsic+json": {
              "type": "dataframe",
              "variable_name": "df"
            }
          },
          "metadata": {},
          "execution_count": 4
        }
      ]
    },
    {
      "cell_type": "markdown",
      "source": [
        "## Separate features from labels"
      ],
      "metadata": {
        "id": "PELYd9tbOdx2"
      }
    },
    {
      "cell_type": "code",
      "source": [
        "# Separate features and labels\n",
        "X = df.drop(columns=[\"Label\", \"Traffic Subtype\"])\n",
        "y = df[\"Label\"] # Target for binary classification"
      ],
      "metadata": {
        "id": "ZS0FO-tCOgRN"
      },
      "execution_count": 5,
      "outputs": []
    },
    {
      "cell_type": "markdown",
      "source": [
        "## Train-test split\n",
        "- Split: 70% training, 15% testing, 15% validation\n",
        "- Statification will be applied to preserve class balance"
      ],
      "metadata": {
        "id": "lpW0O3lNOzrC"
      }
    },
    {
      "cell_type": "code",
      "source": [
        "# Split into train (70%) and val + test (30%)\n",
        "X_train, X_temp, y_train, y_temp = train_test_split(\n",
        "    X, y, test_size=0.30, random_state=42, stratify=y\n",
        ")\n",
        "\n",
        "# Split the 30% into val (15%) and test (15%)\n",
        "X_val, X_test, y_val, y_Test = train_test_split(\n",
        "    X_temp, y_temp, test_size=0.50, random_state=42, stratify=y_temp\n",
        ")\n",
        "\n",
        "print(\"Train size:\", X_train.shape)\n",
        "print(\"Validation size:\", X_val.shape)\n",
        "print(\"Test size:\", X_test.shape)"
      ],
      "metadata": {
        "colab": {
          "base_uri": "https://localhost:8080/"
        },
        "id": "1Oaz9NfoO4bx",
        "outputId": "151df92b-3627-4e39-8893-cb28be37b6ff"
      },
      "execution_count": 6,
      "outputs": [
        {
          "output_type": "stream",
          "name": "stdout",
          "text": [
            "Train size: (137295, 15)\n",
            "Validation size: (29420, 15)\n",
            "Test size: (29421, 15)\n"
          ]
        }
      ]
    },
    {
      "cell_type": "markdown",
      "source": [
        "## Feature Scaling\n"
      ],
      "metadata": {
        "id": "HeecpWK_QEWZ"
      }
    },
    {
      "cell_type": "code",
      "source": [
        "# Create scaler instance\n",
        "scaler = MinMaxScaler()\n",
        "\n",
        "# Fit on X_train, transform X_train, X_val, X_test\n",
        "X_train_scaled = scaler.fit_transform(X_train)\n",
        "X_val_scaled = scaler.transform(X_val)\n",
        "X_test_scaled = scaler.transform(X_test)"
      ],
      "metadata": {
        "id": "WTuKmBvCQJH0"
      },
      "execution_count": 7,
      "outputs": []
    },
    {
      "cell_type": "markdown",
      "source": [
        "### Save the scaler for use later"
      ],
      "metadata": {
        "id": "ZlT_jYo3Qjt0"
      }
    },
    {
      "cell_type": "code",
      "source": [
        "try:\n",
        "  joblib.dump(scaler, SCALER_PATH)\n",
        "  print(f\"Scaler saved to: {SCALER_PATH}\")\n",
        "except Exception as e:\n",
        "  print(f\"Error saving scaler: {e}\")"
      ],
      "metadata": {
        "colab": {
          "base_uri": "https://localhost:8080/"
        },
        "id": "QFwC_MfNQmYa",
        "outputId": "557fc537-8bd3-4212-e79f-f38dd7d6c953"
      },
      "execution_count": 8,
      "outputs": [
        {
          "output_type": "stream",
          "name": "stdout",
          "text": [
            "Scaler saved to: /content/drive/MyDrive/Datasets/TII-SSRC-23/Artifacts/scaler.pkl\n"
          ]
        }
      ]
    },
    {
      "cell_type": "markdown",
      "source": [
        "## Supervised Learning\n",
        "- The following classifiers will be trained to establish a fair baseline:\n",
        "1. Logistic Regression\n",
        "2. Random Forest\n",
        "3. XGBoost\n",
        "4. SVM (RBF kernel) (for non-linear separation)\n",
        "5. MLP (shallow neutral net)"
      ],
      "metadata": {
        "id": "1s5UZCLtQ7OR"
      }
    },
    {
      "cell_type": "markdown",
      "source": [
        "### Model Training and Validation"
      ],
      "metadata": {
        "id": "qy0Ak12eTk2X"
      }
    },
    {
      "cell_type": "code",
      "source": [
        "# Models to train\n",
        "models = {\n",
        "    \"Logistic Regression\": LogisticRegression(max_iter=1000),\n",
        "    \"Random Forest\": RandomForestClassifier(),\n",
        "    \"XGBoost\": XGBClassifier(),\n",
        "    \"SVM\": SVC(probability=True),\n",
        "    \"MLP\": MLPClassifier(hidden_layer_sizes=(64, 32), max_iter=200)\n",
        "}\n",
        "\n",
        "# Apply SMOTE to training set (optional toggle)\n",
        "use_smote = False\n",
        "if use_smote:\n",
        "  smote = SMOTE(random_state=42)\n",
        "  X_train_bal, y_train_bal = smote.fit_resample(X_train_scaled, y_train)\n",
        "else:\n",
        "  X_train_bal, y_train_bal = X_train_scaled, y_train\n",
        "  print(\"Skipping SMOTE...\")\n",
        "\n",
        "# Results list\n",
        "results = []\n",
        "\n",
        "for name, model in tqdm(models.items(), desc=\"Training Models\", unit=\"model\"):\n",
        "  # Fit on training set\n",
        "  model.fit(X_train_bal, y_train_bal)\n",
        "\n",
        "  # Validation performance\n",
        "  y_val_pred = model.predict(X_val_scaled)\n",
        "  y_val_prob = model.predict_proba(X_val_scaled)[:, 1] if hasattr(model, \"predict_proba\") else None\n",
        "\n",
        "  print(f\"\\n\\n{name} Validation Results:\")\n",
        "  print(classification_report(y_val, y_val_pred))\n",
        "\n",
        "  # Compile metrics\n",
        "  metrics = {\n",
        "        \"Model\": name,\n",
        "        \"Accuracy\": accuracy_score(y_val, y_val_pred),\n",
        "        \"Precision\": precision_score(y_val, y_val_pred, average=\"binary\", pos_label=1),\n",
        "        \"Recall\": recall_score(y_val, y_val_pred, average=\"binary\", pos_label=1),\n",
        "        \"F1\": f1_score(y_val, y_val_pred, average=\"binary\", pos_label=1),\n",
        "        \"Confusion Matrix\": confusion_matrix(y_val, y_val_pred)\n",
        "  }\n",
        "\n",
        "  if y_val_prob is not None:\n",
        "    print(\"ROC-AUC (val): \", roc_auc_score(y_val, y_val_prob))\n",
        "    metrics[\"ROC-AUC\"] = roc_auc_score(y_val == 1, y_val_prob)\n",
        "  else:\n",
        "    metrics[\"ROC-AUC\"] = None\n",
        "\n",
        "  results.append(metrics)"
      ],
      "metadata": {
        "colab": {
          "base_uri": "https://localhost:8080/"
        },
        "id": "7Diicy8ARS29",
        "outputId": "0ee9c951-9884-4731-c923-47e62e7d6500"
      },
      "execution_count": 9,
      "outputs": [
        {
          "output_type": "stream",
          "name": "stdout",
          "text": [
            "Skipping SMOTE...\n"
          ]
        },
        {
          "output_type": "stream",
          "name": "stderr",
          "text": [
            "Training Models:  20%|██        | 1/5 [00:00<00:02,  1.93model/s]"
          ]
        },
        {
          "output_type": "stream",
          "name": "stdout",
          "text": [
            "\n",
            "\n",
            "Logistic Regression Validation Results:\n",
            "              precision    recall  f1-score   support\n",
            "\n",
            "           0       0.86      0.30      0.44       193\n",
            "           1       1.00      1.00      1.00     29227\n",
            "\n",
            "    accuracy                           1.00     29420\n",
            "   macro avg       0.93      0.65      0.72     29420\n",
            "weighted avg       0.99      1.00      0.99     29420\n",
            "\n",
            "ROC-AUC (val):  0.9062487645836743\n"
          ]
        },
        {
          "output_type": "stream",
          "name": "stderr",
          "text": [
            "\rTraining Models:  40%|████      | 2/5 [00:26<00:46, 15.41s/model]"
          ]
        },
        {
          "output_type": "stream",
          "name": "stdout",
          "text": [
            "\n",
            "\n",
            "Random Forest Validation Results:\n",
            "              precision    recall  f1-score   support\n",
            "\n",
            "           0       0.97      0.91      0.94       193\n",
            "           1       1.00      1.00      1.00     29227\n",
            "\n",
            "    accuracy                           1.00     29420\n",
            "   macro avg       0.98      0.96      0.97     29420\n",
            "weighted avg       1.00      1.00      1.00     29420\n",
            "\n",
            "ROC-AUC (val):  0.9842352456056406\n"
          ]
        },
        {
          "output_type": "stream",
          "name": "stderr",
          "text": [
            "\rTraining Models:  60%|██████    | 3/5 [00:27<00:18,  9.02s/model]"
          ]
        },
        {
          "output_type": "stream",
          "name": "stdout",
          "text": [
            "\n",
            "\n",
            "XGBoost Validation Results:\n",
            "              precision    recall  f1-score   support\n",
            "\n",
            "           0       0.97      0.91      0.94       193\n",
            "           1       1.00      1.00      1.00     29227\n",
            "\n",
            "    accuracy                           1.00     29420\n",
            "   macro avg       0.99      0.96      0.97     29420\n",
            "weighted avg       1.00      1.00      1.00     29420\n",
            "\n",
            "ROC-AUC (val):  0.9997501245831495\n"
          ]
        },
        {
          "output_type": "stream",
          "name": "stderr",
          "text": [
            "\rTraining Models:  80%|████████  | 4/5 [05:24<02:02, 122.44s/model]"
          ]
        },
        {
          "output_type": "stream",
          "name": "stdout",
          "text": [
            "\n",
            "\n",
            "SVM Validation Results:\n",
            "              precision    recall  f1-score   support\n",
            "\n",
            "           0       0.93      0.63      0.75       193\n",
            "           1       1.00      1.00      1.00     29227\n",
            "\n",
            "    accuracy                           1.00     29420\n",
            "   macro avg       0.96      0.82      0.88     29420\n",
            "weighted avg       1.00      1.00      1.00     29420\n",
            "\n",
            "ROC-AUC (val):  0.9786144226424179\n"
          ]
        },
        {
          "output_type": "stream",
          "name": "stderr",
          "text": [
            "Training Models: 100%|██████████| 5/5 [07:54<00:00, 94.82s/model] "
          ]
        },
        {
          "output_type": "stream",
          "name": "stdout",
          "text": [
            "\n",
            "\n",
            "MLP Validation Results:\n",
            "              precision    recall  f1-score   support\n",
            "\n",
            "           0       0.91      0.90      0.91       193\n",
            "           1       1.00      1.00      1.00     29227\n",
            "\n",
            "    accuracy                           1.00     29420\n",
            "   macro avg       0.96      0.95      0.95     29420\n",
            "weighted avg       1.00      1.00      1.00     29420\n",
            "\n",
            "ROC-AUC (val):  0.9909193908464582\n"
          ]
        },
        {
          "output_type": "stream",
          "name": "stderr",
          "text": [
            "\n"
          ]
        }
      ]
    },
    {
      "cell_type": "markdown",
      "source": [
        "## Results Dataframe"
      ],
      "metadata": {
        "id": "z6-t4i3nW1w0"
      }
    },
    {
      "cell_type": "code",
      "source": [
        "# Convert results into a pandas dataframe\n",
        "results_df = pd.DataFrame(results)\n",
        "\n",
        "# Remove confusion matrix for results display\n",
        "print(results_df.drop(\"Confusion Matrix\", axis=1))"
      ],
      "metadata": {
        "colab": {
          "base_uri": "https://localhost:8080/"
        },
        "id": "DgCxCvAJW451",
        "outputId": "80e1488a-5a0b-4ae9-aeb5-a5b26bf666e6"
      },
      "execution_count": 10,
      "outputs": [
        {
          "output_type": "stream",
          "name": "stdout",
          "text": [
            "                 Model  Accuracy  Precision    Recall        F1   ROC-AUC\n",
            "0  Logistic Regression  0.995071   0.995367  0.999692  0.997525  0.906249\n",
            "1        Random Forest  0.999218   0.999419  0.999795  0.999607  0.984235\n",
            "2              XGBoost  0.999252   0.999419  0.999829  0.999624  0.999750\n",
            "3                  SVM  0.997281   0.997576  0.999692  0.998633  0.978614\n",
            "4                  MLP  0.998776   0.999350  0.999418  0.999384  0.990919\n"
          ]
        }
      ]
    },
    {
      "cell_type": "markdown",
      "source": [
        "## Visualization of Metrics"
      ],
      "metadata": {
        "id": "MebhJwpOXNF0"
      }
    },
    {
      "cell_type": "markdown",
      "source": [
        "### Function to plot model comparison"
      ],
      "metadata": {
        "id": "mhC0NGVCXiDI"
      }
    },
    {
      "cell_type": "code",
      "source": [
        "def plot_model_comparison(results_df: pd.DataFrame):\n",
        "  \"\"\"\n",
        "  Generates and displays a bar plot comparing classifiers' performance\n",
        "  across various smetrics.\n",
        "  \"\"\"\n",
        "  df_melt = results_df.melt(\n",
        "      id_vars=[\"Model\"],\n",
        "      value_vars=[\"Accuracy\", \"Precision\", \"Recall\", \"F1\", \"ROC-AUC\"],\n",
        "      var_name=\"Metric\", value_name=\"Score\"\n",
        "  )\n",
        "\n",
        "  plt.figure(figsize=(10,6))\n",
        "  sns.barplot(data=df_melt, x=\"Metric\", y=\"Score\", hue=\"Model\", palette=\"Set2\")\n",
        "  plt.ylim(0, 1)\n",
        "  plt.title(\"Model Validation Performance\", fontsize=14)\n",
        "  plt.ylabel(\"Score\")\n",
        "  plt.legend(bbox_to_anchor=(1.05, 1), loc='upper left')\n",
        "  plt.show()"
      ],
      "metadata": {
        "id": "Qu68gQKIXkk9"
      },
      "execution_count": 11,
      "outputs": []
    },
    {
      "cell_type": "markdown",
      "source": [
        "### Function to plot metric trends"
      ],
      "metadata": {
        "id": "ZMJ8A6IhYf8c"
      }
    },
    {
      "cell_type": "code",
      "source": [
        "def plot_metric_trends(results_df: pd.DataFrame):\n",
        "  \"\"\"\n",
        "  Generates and displays a line plot the trend of metrics across models.\n",
        "  \"\"\"\n",
        "  df_melt = results_df.melt(\n",
        "      id_vars=[\"Model\"],\n",
        "      value_vars=[\"Accuracy\", \"Precision\", \"Recall\", \"F1\", \"ROC-AUC\"],\n",
        "      var_name=\"Metric\", value_name=\"Score\"\n",
        "  )\n",
        "\n",
        "  plt.figure(figsize=(10,6))\n",
        "  sns.lineplot(data=df_melt, x=\"Metric\", y=\"Score\", hue=\"Model\", marker=\"o\")\n",
        "  plt.ylim(0, 1)\n",
        "  plt.title(\"Model Metrics Trend\", fontsize=14)\n",
        "  plt.ylabel(\"Score\")\n",
        "  plt.show()\n"
      ],
      "metadata": {
        "id": "8YVfdrVmYe0J"
      },
      "execution_count": 12,
      "outputs": []
    },
    {
      "cell_type": "markdown",
      "source": [
        "### Function for generating heatmap for quick overview"
      ],
      "metadata": {
        "id": "fZ6joMMiYp-A"
      }
    },
    {
      "cell_type": "code",
      "source": [
        "def plot_metric_heatmap(results_df: pd.DataFrame):\n",
        "  \"\"\"\n",
        "  Generates and displays a heatmap of validation metrics.\n",
        "  \"\"\"\n",
        "  plt.figure(figsize=(8,5))\n",
        "  sns.heatmap(results_df.set_index(\"Model\"), annot=True, cmap=\"YlGnBu\", fmt=\".2f\")\n",
        "  plt.title(\"Validation Metrics Heatmap\", fontsize=14)\n",
        "  plt.show()\n"
      ],
      "metadata": {
        "id": "TeWyXV9-Ytqx"
      },
      "execution_count": 13,
      "outputs": []
    },
    {
      "cell_type": "markdown",
      "source": [
        "### Function for generating confusion matrix"
      ],
      "metadata": {
        "id": "pM43_m8KZfQQ"
      }
    },
    {
      "cell_type": "code",
      "source": [
        "def plot_confusion_matrix(results_df: pd.DataFrame):\n",
        "    \"\"\"\n",
        "    Generates and displays confusion matrices for each model.\n",
        "    \"\"\"\n",
        "    n_models = len(results_df)\n",
        "    n_cols = 2\n",
        "    n_rows = math.ceil(n_models / n_cols)\n",
        "\n",
        "    fig, axes = plt.subplots(n_rows, n_cols, figsize=(10, 4 * n_rows))\n",
        "    axes = axes.flatten()  # Flatten to 1D for easy indexing\n",
        "\n",
        "    for ax, (_, row) in zip(axes, results_df.iterrows()):\n",
        "        cm = row[\"Confusion Matrix\"]\n",
        "\n",
        "        sns.heatmap(cm, annot=True, fmt=\"d\", cmap=\"Blues\", ax=ax, cbar=False,\n",
        "                    xticklabels=[\"Benign\", \"Malicious\"],\n",
        "                    yticklabels=[\"Benign\", \"Malicious\"])\n",
        "\n",
        "        ax.set_title(f\"{row['Model']}\\nConfusion Matrix\")\n",
        "        ax.set_xlabel(\"Predicted\")\n",
        "        ax.set_ylabel(\"Actual\")\n",
        "\n",
        "    # Hide any unused subplots\n",
        "    for ax in axes[len(results_df):]:\n",
        "        ax.axis(\"off\")\n",
        "\n",
        "    plt.tight_layout()\n",
        "    plt.show()\n"
      ],
      "metadata": {
        "id": "34kUVtp_ZoGZ"
      },
      "execution_count": 14,
      "outputs": []
    },
    {
      "cell_type": "markdown",
      "source": [
        "### Running functions to visualize metrics"
      ],
      "metadata": {
        "id": "9dCQcAgmZBdJ"
      }
    },
    {
      "cell_type": "markdown",
      "source": [
        "#### Metrics Comparison"
      ],
      "metadata": {
        "id": "7cfaRSkhZdE1"
      }
    },
    {
      "cell_type": "code",
      "source": [
        "plot_model_comparison(results_df)\n"
      ],
      "metadata": {
        "colab": {
          "base_uri": "https://localhost:8080/",
          "height": 565
        },
        "id": "nSHctmbQZGCI",
        "outputId": "023a1d0b-6982-4d15-b98e-2843a6a97978"
      },
      "execution_count": 15,
      "outputs": [
        {
          "output_type": "display_data",
          "data": {
            "text/plain": [
              "<Figure size 1000x600 with 1 Axes>"
            ],
            "image/png": "[encoded data removed]"
          },
          "metadata": {}
        }
      ]
    },
    {
      "cell_type": "markdown",
      "source": [
        "### Metric Trends"
      ],
      "metadata": {
        "id": "Xu5_82z6dsdB"
      }
    },
    {
      "cell_type": "code",
      "source": [
        "plot_metric_trends(results_df)"
      ],
      "metadata": {
        "colab": {
          "base_uri": "https://localhost:8080/",
          "height": 565
        },
        "id": "IHBUqDyCdhzz",
        "outputId": "16f53c29-256a-4f20-afd7-28df2e62d922"
      },
      "execution_count": 16,
      "outputs": [
        {
          "output_type": "display_data",
          "data": {
            "text/plain": [
              "<Figure size 1000x600 with 1 Axes>"
            ],
            "image/png": "[encoded data removed]"
          },
          "metadata": {}
        }
      ]
    },
    {
      "cell_type": "markdown",
      "source": [
        "### Metric Heatmap"
      ],
      "metadata": {
        "id": "3cqhSrGudy8p"
      }
    },
    {
      "cell_type": "code",
      "source": [
        "plot_metric_heatmap(results_df.drop(\"Confusion Matrix\", axis=1))"
      ],
      "metadata": {
        "colab": {
          "base_uri": "https://localhost:8080/",
          "height": 469
        },
        "id": "Hp1VYjfWdyh3",
        "outputId": "ebc15e48-7b31-49c1-8e1c-c6551192b307"
      },
      "execution_count": 17,
      "outputs": [
        {
          "output_type": "display_data",
          "data": {
            "text/plain": [
              "<Figure size 800x500 with 2 Axes>"
            ],
            "image/png": "[encoded data removed]"
          },
          "metadata": {}
        }
      ]
    },
    {
      "cell_type": "markdown",
      "source": [
        "### Confusion matrix"
      ],
      "metadata": {
        "id": "n0sZoez6ZWCf"
      }
    },
    {
      "cell_type": "code",
      "source": [
        "plot_confusion_matrix(results_df)"
      ],
      "metadata": {
        "colab": {
          "base_uri": "https://localhost:8080/",
          "height": 1000
        },
        "id": "YaqrAp_SeCmS",
        "outputId": "284b547e-3254-468a-d81a-7c1ca876cf5c"
      },
      "execution_count": 18,
      "outputs": [
        {
          "output_type": "display_data",
          "data": {
            "text/plain": [
              "<Figure size 1000x1200 with 6 Axes>"
            ],
            "image/png": "[encoded data removed]"
          },
          "metadata": {}
        }
      ]
    }
  ]
}